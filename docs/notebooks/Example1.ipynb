{
 "cells": [
  {
   "attachments": {},
   "cell_type": "markdown",
   "metadata": {},
   "source": [
    "## Simulating a Raman transition with constant lasers\n"
   ]
  },
  {
   "cell_type": "code",
   "execution_count": null,
   "metadata": {},
   "outputs": [],
   "source": [
    "import AtomCalc\n",
    "level1 = Level([0])\n",
    "level2 = Level([20])\n",
    "level3 = Level([100])\n",
    "\n",
    "decay = Decay([0], [[level3, level1]])\n",
    "\n",
    "# Parameter erster Fall\n",
    "Delta = 20\n",
    "delta = 0\n",
    "Omega2 = 1\n",
    "Omega3 = 1\n",
    "\n",
    "# Parameter zweiter Fall\n",
    "Delta = 20\n",
    "delta = 0.01\n",
    "Omega2 = 1\n",
    "Omega3 = 1\n",
    "\n",
    "Omega_eff = Omega2 * Omega3 / (2 * Delta)\n",
    "Omega_gen = np.sqrt(Omega_eff**2 + delta**2)\n",
    "Lambda = Omega_eff**2 / (Omega_gen**2)\n",
    "print(Omega_gen / (2 * np.pi))  # Ist die Frequenz\n",
    "print(1 / (Omega_gen / (2 * np.pi)))  # Ist die Periodendauer: 1/f\n",
    "print(Lambda)  # Ist die Amplitude\n",
    "\n",
    "\n",
    "# System\n",
    "laser1 = Laser(Omega2, 100 + Delta, [level1, level3])\n",
    "laser2 = Laser(Omega3, 80 + (Delta - delta), [level2, level3])\n",
    "system = System([level1, level2, level3], [laser1, laser2], decay)\n",
    "system.draw()"
   ]
  },
  {
   "cell_type": "code",
   "execution_count": null,
   "metadata": {},
   "outputs": [],
   "source": []
  }
 ],
 "metadata": {
  "kernelspec": {
   "display_name": "Python 3 (ipykernel)",
   "language": "python",
   "name": "python3"
  },
  "language_info": {
   "codemirror_mode": {
    "name": "ipython",
    "version": 3
   },
   "file_extension": ".py",
   "mimetype": "text/x-python",
   "name": "python",
   "nbconvert_exporter": "python",
   "pygments_lexer": "ipython3",
   "version": "3.8.5"
  }
 },
 "nbformat": 4,
 "nbformat_minor": 2
}
